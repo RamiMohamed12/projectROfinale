{
 "cells": [
  {
   "cell_type": "markdown",
   "id": "9aa6b235",
   "metadata": {},
   "source": [
    "## <span style=\"color: purple;\"> 0.Contexte et motivation </span> "
   ]
  },
  {
   "cell_type": "markdown",
   "id": "1cbd9e7b",
   "metadata": {},
   "source": [
    "Depuis les années 1990, la question de la réduction de la consommation d’énergie et des émissions de gaz à effet de serre est devenue une priorité mondiale. En France, l’ADEME soutient activement les initiatives qui visent à rendre les transports plus durables et plus efficaces. Dans ce cadre, notre projet s’inscrit dans la recherche de nouvelles solutions de mobilité permettant d’optimiser les tournées de livraison tout en limitant leur impact environnemental. L’objectif est de proposer une modélisation du problème de gestion de tournées afin d’améliorer la planification des trajets et de réduire les coûts énergétiques et les émissions polluantes.\n"
   ]
  },
  {
   "cell_type": "markdown",
   "id": "857c2517",
   "metadata": {},
   "source": [
    "## <span style=\"color: purple;\"> 1.Définition du problème et des données d’entrée </span>"
   ]
  },
  {
   "cell_type": "markdown",
   "id": "3c8fd2de",
   "metadata": {},
   "source": [
    "Le **problème de tournées de véhicules (Vehicle Routing Problem, VRP)** est un problème d’optimisation combinatoire et de programmation en nombres entiers. Il consiste à déterminer l’ensemble optimal de trajets qu’une flotte de véhicules doit effectuer pour livrer ou collecter des biens auprès d’un ensemble de clients répartis sur un territoire. Ce problème a été introduit en 1959 par George Dantzig et John Ramser dans le cadre de la distribution de carburant, mais il s’applique aujourd’hui à de nombreux domaines tels que la livraison de colis, le ramassage des déchets, la collecte de données ou encore le transport de personnes (seniors, patients, etc.).\n",
    "\n",
    "Dans sa forme la plus classique, le VRP suppose qu’un dépôt central alimente plusieurs clients dont la demande est connue. Chaque véhicule part du dépôt, effectue une tournée et revient à son point de départ. L’objectif principal est de **minimiser le coût total du parcours**, souvent exprimé en distance, en temps ou en consommation d’énergie. D’autres objectifs peuvent également être considérés, comme **la réduction du nombre de véhicules utilisés**, **la minimisation des émissions de CO₂** ou encore **l’amélioration de la qualité du service** (respect des horaires de livraison, limitation des temps d’attente, etc.).\n",
    "\n",
    "Les **données d’entrée** du problème comprennent généralement :\n",
    "\n",
    "* La liste des points à visiter (clients, sites de collecte, etc.)\n",
    "* Les distances ou temps de trajet entre ces points\n",
    "* Les capacités des véhicules\n",
    "* Les demandes associées à chaque point\n",
    "* Éventuellement, des **fenêtres de temps** pour les livraisons ou collectes\n",
    "\n",
    "Le VRP cherche donc à construire un ensemble de tournées réalisables qui respectent ces contraintes tout en optimisant un ou plusieurs critères de performance.\n"
   ]
  },
  {
   "cell_type": "markdown",
   "id": "84430d7c",
   "metadata": {},
   "source": [
    "## <span style=\"color: purple;\"> 2. Modélisation sous form de Graphe </span>"
   ]
  },
  {
   "cell_type": "markdown",
   "id": "16389982",
   "metadata": {},
   "source": [
    "Dans notre modélisation, le problème de tournées de véhicules (VRP) est représenté par un graphe orienté noté $G = (V,E)$. \n",
    "\n",
    "- L'ensemble $V = {V_0, V_1, V_2, ..., V_n}$ correspond aux sommets du graphe. \n",
    "    Chaque sommet $V_i$ représente un lieu à visiter. Le sommet $V_0$ désigne le dépôt central, c’est-à-dire le point de départ et de retour des véhicules.\n",
    "\n",
    "- L'ensemble $E$ regroupe les arêtes du graphe, représentant les routes possibles reliant deux sommets $V_i$ et $V_j$. \n",
    "    Chaque arête est associée à deux grandeurs :\n",
    "    - $C_{ij}$ : le coût du trajet entre $i$ et $j$ (qui peut representer une distance, une consommation de carburant ou un cout economique global)\n",
    "    - $T_{ij}$ : le temps de trajet entre $i$ et $j$ (qui peut être influencé par la distance, la circulation, etc.)\n",
    "\n",
    "Pour décrire les décisions prises dans la tournée, on introduit une variable de décision $x_{ij}$ pour chaque arête du graphe :\n",
    "\n",
    "- $x_{ij} = 1$ si le véhicule emprunte l'arête allant de $V_i$ à $V_j$\n",
    "- $x_{ij} = 0$ sinon\n",
    "\n",
    "<div align=\"center\">\n",
    "    <img src=\"imges/Classical-Vehicle-Routing-Problem.png\" alt=\"Classical Vehicle Routing Problem\"/>\n",
    "</div>\n",
    "\n",
    "Ainsi, le graphe $G = (V,E)$ associé aux variables $x_{ij}$ permet de modéliser l’ensemble des itinéraires possibles du problème.\n",
    "L’objectif du VRP consiste alors à déterminer, à partir de ces éléments, l’ensemble des arêtes activées (c’est-à-dire celles où $x_{ij} = 1$) qui permettent de construire les routes minimisant le coût total tout en respectant les contraintes du problème (temps, capacité, fenêtres temporelles, etc.)."
   ]
  },
  {
   "cell_type": "markdown",
   "id": "6ea5bc60",
   "metadata": {},
   "source": [
    "### <span style=\"color: purple;\"> 2.1 Formulation mathématique </span>"
   ]
  },
  {
   "cell_type": "markdown",
   "id": "67530dc3",
   "metadata": {},
   "source": [
    "L’objectif principal du problème de tournées de véhicules est de **minimiser le coût total des trajets effectués** par l’ensemble des véhicules.\n",
    "\n",
    "Mathématiquement, cette idée peut être exprimée par la fonction suivante :\n",
    "\n",
    "\n",
    "$$\\large \\text{Minimiser } \\sum_{i \\in V} \\sum_{j \\in V} c_{ij} x_{ij}$$\n",
    "\n",
    "\n",
    "où :\n",
    "\n",
    "* $c_{ij}$ représente le **coût du trajet** entre le sommet $i$ et le sommet $j$ ;\n",
    "* $x_{ij}$ est une **variable binaire** qui vaut 1 si la route $(i, j)$ est empruntée, et 0 sinon.\n",
    "\n",
    "Cette fonction cherche donc à sélectionner les arêtes du graphe $G = (V, E)$ de manière à **minimiser la somme totale des coûts associés aux déplacements**, tout en respectant les contraintes du problème (par exemple : chaque client doit être visité exactement une fois, le véhicule doit partir et revenir au dépôt, etc.).\n"
   ]
  },
  {
   "cell_type": "markdown",
   "id": "4983f7b1",
   "metadata": {},
   "source": [
    "## <span style=\"color: purple;\"> 3. Contraintes choisies et variantes </span>"
   ]
  }
 ],
 "metadata": {
  "language_info": {
   "name": "python"
  }
 },
 "nbformat": 4,
 "nbformat_minor": 5
}
