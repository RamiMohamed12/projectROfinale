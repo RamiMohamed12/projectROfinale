{
 "cells": [
  {
   "cell_type": "markdown",
   "id": "0f1ff493",
   "metadata": {},
   "source": [
    "# <span style=\"color: purple;\"> Table des matières </span>\n",
    "\n",
    "- [0. Contexte et motivation](#0contexte-et-motivation)\n",
    "- [1. Définition du problème et des données d’entrée](#1définition-du-problème-et-des-données-dentrée)\n",
    "- [Glossaire](#glossaire)\n",
    "- [2. Modélisation sous form de Graphe](#2modélisation-sous-form-de-graphe)\n",
    "- [2.1 Formulation mathématique](#21formulation-mathématique)\n",
    "- [3. Contraintes choisies et variantes](#3contraintes-choisies-et-variantes)\n",
    "- [4. Représentation des données](#4représentation-des-données)\n",
    "- [5. Analyse de complexité](#5analyse-de-complexité)\n",
    "- [5.1. Récapitulatif des Problèmes de classe](#51récapitulatif-des-problèmes-de-classe)\n",
    "- [5.2 Preuve que le VRP est bien NP-difficile](#52preuve-que-le-vrp-est-bien-np-difficile)\n",
    "- [5.3 Version de decision et NP-Complete](#52version-de-decision-et-np-complete)\n",
    "- [Conclusion / Résumé](#conclusion--résumé)\n",
    "- [Références](#références)"
   ]
  },
  {
   "cell_type": "markdown",
   "id": "9aa6b235",
   "metadata": {},
   "source": [
    "## <span style=\"color: purple;\"> 0.Contexte et motivation </span> "
   ]
  },
  {
   "cell_type": "markdown",
   "id": "1cbd9e7b",
   "metadata": {},
   "source": [
    "Depuis les années 1990, la question de la réduction de la consommation d’énergie et des émissions de gaz à effet de serre est devenue une priorité mondiale. En France, l’ADEME soutient activement les initiatives qui visent à rendre les transports plus durables et plus efficaces. Dans ce cadre, notre projet s’inscrit dans la recherche de nouvelles solutions de mobilité permettant d’optimiser les tournées de livraison tout en limitant leur impact environnemental. L’objectif est de proposer une modélisation du problème de gestion de tournées afin d’améliorer la planification des trajets et de réduire les coûts énergétiques et les émissions polluantes.\n"
   ]
  },
  {
   "cell_type": "markdown",
   "id": "857c2517",
   "metadata": {},
   "source": [
    "## <span style=\"color: purple;\"> 1.Définition du problème et des données d’entrée </span>"
   ]
  },
  {
   "cell_type": "markdown",
   "id": "3c8fd2de",
   "metadata": {},
   "source": [
    "Le **problème de tournées de véhicules (Vehicle Routing Problem, VRP)** est un problème d’optimisation combinatoire et de programmation en nombres entiers. Il consiste à déterminer l’ensemble optimal de trajets qu’une flotte de véhicules doit effectuer pour livrer ou collecter des biens auprès d’un ensemble de clients répartis sur un territoire. Ce problème a été introduit en 1959 par George Dantzig et John Ramser dans le cadre de la distribution de carburant, mais il s’applique aujourd’hui à de nombreux domaines tels que la livraison de colis, le ramassage des déchets, la collecte de données ou encore le transport de personnes (seniors, patients, etc.).\n",
    "\n",
    "Dans sa forme la plus classique, le VRP suppose qu’un dépôt central alimente plusieurs clients dont la demande est connue. Chaque véhicule part du dépôt, effectue une tournée et revient à son point de départ. L’objectif principal est de **minimiser le coût total du parcours**, souvent exprimé en distance, en temps ou en consommation d’énergie. D’autres objectifs peuvent également être considérés, comme **la réduction du nombre de véhicules utilisés**, **la minimisation des émissions de CO₂** ou encore **l’amélioration de la qualité du service** (respect des horaires de livraison, limitation des temps d’attente, etc.).\n",
    "\n",
    "Les **données d’entrée** du problème comprennent généralement :\n",
    "\n",
    "* La liste des points à visiter (clients, sites de collecte, etc.)\n",
    "* Les distances ou temps de trajet entre ces points\n",
    "* Les capacités des véhicules\n",
    "* Les demandes associées à chaque point\n",
    "* Éventuellement, des **fenêtres de temps** pour les livraisons ou collectes\n",
    "\n",
    "Le VRP cherche donc à construire un ensemble de tournées réalisables qui respectent ces contraintes tout en optimisant un ou plusieurs critères de performance.\n"
   ]
  },
  {
   "cell_type": "markdown",
   "id": "c9755a7d",
   "metadata": {},
   "source": [
    "## <span style=\"color: purple;\"> Glossaire </span>\n",
    "\n",
    "Voici une liste des termes clés utilisés dans ce document :\n",
    "\n",
    "- **VRP (Vehicle Routing Problem)** : Problème de tournées de véhicules, consistant à optimiser les trajets d'une flotte de véhicules pour livrer des clients.\n",
    "- **TSP (Traveling Salesman Problem)** : Problème du voyageur de commerce, où un vendeur doit visiter plusieurs villes en minimisant la distance totale.\n",
    "- **Graphe** : Structure mathématique composée de sommets (nœuds) reliés par des arêtes (liens).\n",
    "- **Sommet** : Point dans un graphe représentant un lieu (dépôt ou client).\n",
    "- **Arête** : Lien entre deux sommets représentant une route possible.\n",
    "- **Fenêtres temporelles** : Plages horaires pendant lesquelles un service doit être effectué chez un client.\n",
    "- **NP-difficile** : Classe de problèmes pour lesquels il n'existe pas d'algorithme polynomial connu pour les résoudre.\n",
    "- **NP-complet** : Problème qui est à la fois dans NP et NP-difficile.\n",
    "- **Dépôt** : Point central de départ et d'arrivée des véhicules.\n",
    "- **Capacité** : Limite de charge que peut transporter un véhicule."
   ]
  },
  {
   "cell_type": "markdown",
   "id": "84430d7c",
   "metadata": {},
   "source": [
    "## <span style=\"color: purple;\"> 2. Modélisation sous form de Graphe </span>"
   ]
  },
  {
   "cell_type": "markdown",
   "id": "16389982",
   "metadata": {},
   "source": [
    "Dans notre modélisation, le problème de tournées de véhicules (VRP) est représenté par un graphe orienté noté $G = (V,E)$. \n",
    "\n",
    "- L'ensemble $V = {V_0, V_1, V_2, ..., V_n}$ correspond aux sommets du graphe. \n",
    "    Chaque sommet $V_i$ représente un lieu à visiter. Le sommet $V_0$ désigne le dépôt central, c’est-à-dire le point de départ et de retour des véhicules.\n",
    "\n",
    "- L'ensemble $E$ regroupe les arêtes du graphe, représentant les routes possibles reliant deux sommets $V_i$ et $V_j$. \n",
    "    Chaque arête est associée à deux grandeurs :\n",
    "    - $C_{ij}$ : le coût du trajet entre $i$ et $j$ (qui peut representer une distance, une consommation de carburant ou un cout economique global)\n",
    "    - $T_{ij}$ : le temps de trajet entre $i$ et $j$ (qui peut être influencé par la distance, la circulation, etc.)\n",
    "\n",
    "Pour décrire les décisions prises dans la tournée, on introduit une variable de décision $x_{ij}$ pour chaque arête du graphe :\n",
    "\n",
    "- $x_{ij} = 1$ si le véhicule emprunte l'arête allant de $V_i$ à $V_j$\n",
    "- $x_{ij} = 0$ sinon\n",
    "\n",
    "<div align=\"center\">\n",
    "    <figure style=\"display:flex;flex-direction:column;align-items:center;\">\n",
    "        <img src=\"images/Classical-Vehicle-Routing-Problem.png\" alt=\"Diagramme P, NP, NP-Complete, NP-Hard\" style=\"max-width:500px;width:80%;height:auto;border:1px solid #e0e0e0;border-radius:8px;box-shadow:0 6px 18px rgba(0,0,0,0.08);\" />\n",
    "        <figcaption style=\"margin-top:8px;color:#555;font-size:0.95em;text-align:center;\">\n",
    "            Représentation schématique du problème de tournées de véhicules (VRP)\n",
    "        </figcaption>\n",
    "    </figure>\n",
    "</div>\n",
    "\n",
    "Ainsi, le graphe $G = (V,E)$ associé aux variables $x_{ij}$ permet de modéliser l’ensemble des itinéraires possibles du problème.\n",
    "L’objectif du VRP consiste alors à déterminer, à partir de ces éléments, l’ensemble des arêtes activées (c’est-à-dire celles où $x_{ij} = 1$) qui permettent de construire les routes minimisant le coût total tout en respectant les contraintes du problème (temps, capacité, fenêtres temporelles, etc.)."
   ]
  },
  {
   "cell_type": "markdown",
   "id": "6ea5bc60",
   "metadata": {},
   "source": [
    "### <span style=\"color: purple;\"> 2.1 Formulation mathématique </span>"
   ]
  },
  {
   "cell_type": "markdown",
   "id": "67530dc3",
   "metadata": {},
   "source": [
    "# Fonction objectif du problème de tournées de véhicules\n",
    "\n",
    "L’objectif principal du **problème de tournées de véhicules (VRP)** est de **minimiser le coût total des trajets effectués** par l’ensemble des véhicules.\n",
    "\n",
    "Mathématiquement, cette idée peut être exprimée par la fonction suivante :\n",
    "\n",
    "$$\n",
    "\\large \\text{Minimiser } \\sum_{k \\in K} \\sum_{i \\in V} \\sum_{j \\in V} (c_{ij} + t_{ij}) \\, x_{ijk}\n",
    "$$\n",
    "\n",
    "où :\n",
    "\n",
    "* $c_{ij}$ représente le **coût du trajet** entre le sommet $i$ et le sommet $j$ ;\n",
    "* $t_{ij}$ est le **temps de trajet** entre le sommet $i$ et le sommet $j$ ;\n",
    "* $x_{ijk}$ est une **variable binaire** qui vaut 1 si le véhicule $k$ emprunte la route $(i, j)$, et 0 sinon.\n",
    "\n",
    "Cette fonction cherche donc à sélectionner les arêtes du graphe $G = (V, E)$ de manière à **minimiser la somme totale des coûts associés aux déplacements**, tout en respectant les contraintes du problème (par exemple : chaque client doit être visité exactement une fois, chaque véhicule part et revient au dépôt, etc.).\n"
   ]
  },
  {
   "cell_type": "markdown",
   "id": "4983f7b1",
   "metadata": {},
   "source": [
    "## <span style=\"color: purple;\"> 3. Contraintes choisies et variantes </span>"
   ]
  },
  {
   "cell_type": "markdown",
   "id": "84537aee",
   "metadata": {},
   "source": [
    "Fenêtres temporelles avec attente autorisée avant ouverture\n",
    "\n",
    "Dans cette variante du problème de tournées de véhicules, chaque client $V_i$ est associé à une fenêtre temporelle $[a_i,b_i]$, qui définit le créneau horaire pendant lequel le service peut être effectué.\n",
    "\n",
    "- $a_i$ : heure d'ouverture de la fenêtre temporelle pour le client $V_i$\n",
    "- $b_i$ : heure de fermeture de la fenêtre temporelle pour le client $V_i$\n",
    "\n",
    "Le véhicule doit arriver à la position $V_i$ avant ou pendant cette fenêtre.\n",
    "Si le véhicule arrive avant $a_i$ il est autorisé à attendre jusqu’à l’ouverture du créneau pour commencer la livraison ou la collecte.\n",
    "\n",
    "Cette contrainte introduit donc la notion de temps d’attente au sein du modèle.\n",
    "Ainsi, pour chaque arête $(i,j)$, le temps d’arrivée au sommet $V_j$ depend de : \n",
    "\n",
    "- Le temps de trajet $T_{ij}$ entre $V_i$ et $V_j$,\n",
    "- L'heure de depart reelle du véhicule de $V_i$,\n",
    "- et, éventuellement, du **temps d’attente** si le véhicule arrive trop tôt.\n",
    "\n",
    "Cette variante, appelée VRP avec fenêtres temporelles et attente autorisée, permet de modéliser des situations réelles où les véhicules peuvent arriver avant l’heure d’ouverture d’un client, mais doivent patienter avant d’effectuer le service.\n",
    "\n",
    "Elle ajoute une dimension temporelle importante au problème, rendant la planification plus complexe mais aussi plus réaliste pour des contextes de logistique urbaine ou de livraison planifiée."
   ]
  },
  {
   "cell_type": "markdown",
   "id": "5cffe799",
   "metadata": {},
   "source": [
    "## <span style=\"color: purple;\"> 4. Représentation des données </span>"
   ]
  },
  {
   "cell_type": "markdown",
   "id": "7afcda9a",
   "metadata": {},
   "source": [
    "Pour modéliser le problème de tournées de véhicules, il est nécessaire de représenter les différentes données sous une forme exploitable par le modèle mathématique.\n",
    "\n",
    "#### **Sommets :**\n",
    "\n",
    "Chaque sommet $V_i$ représente un **lieu à visiter**.  \n",
    "L’ensemble des sommets est défini par :\n",
    "\n",
    "$$\n",
    "V = \\{V_0, V_1, V_2, ..., V_n\\}\n",
    "$$\n",
    "\n",
    "où  $V_0$ correspond au **dépôt central** et les autres sommets $V_i$ (avec $i > 0$) représentent les **clients**.\n",
    "\n",
    "Chaque sommet $V_i$ possède plusieurs attributs :\n",
    "- coordonnées géographiques : $(x_i, y_i)$\n",
    "- demande : $d_i$\n",
    "- fenêtre temporelle : $[a_i, b_i]$\n",
    "- temps de service : $s_i$\n",
    "\n",
    "#### **Arêtes :**\n",
    "\n",
    "Les arêtes représentent les **liaisons possibles** entre les différents sommets.  \n",
    "L’ensemble des arêtes est noté :\n",
    "\n",
    "$$\n",
    "E = \\{(i, j) \\ | \\ i, j \\in V, \\ i \\neq j\\}\n",
    "$$\n",
    "\n",
    "Chaque arête $(i, j)$ est associée à deux valeurs principales :\n",
    "- le **coût** du trajet $c_{ij}$\n",
    "- le **temps de parcours** $t_{ij}$\n",
    "\n",
    "#### **Matrices de données :**\n",
    "\n",
    "Les informations de coûts et de temps sont stockées sous forme de matrices :\n",
    "\n",
    "$$\n",
    "C = [c_{ij}]_{n \\times n} \\quad \\text{et} \\quad T = [t_{ij}]_{n \\times n}\n",
    "$$\n",
    "\n",
    "Ces matrices permettent de déterminer le coût total d’une tournée et de vérifier les contraintes de temps entre les différents points.\n",
    "\n",
    "#### **Variables de décision :**\n",
    "\n",
    "Pour représenter les choix de trajet, on introduit une variable binaire :\n",
    "\n",
    "$$\n",
    "x_{ij} =\n",
    "\\begin{cases}\n",
    "1, & \\text{si le véhicule emprunte la route de } i \\text{ vers } j \\\\\n",
    "0, & \\text{sinon}\n",
    "\\end{cases}\n",
    "$$\n",
    "\n",
    "Cette structure de données permet de modéliser de manière complète les informations nécessaires au problème de tournées de véhicules, en reliant chaque lieu, chaque trajet et les paramètres associés (coûts, temps, fenêtres temporelles)."
   ]
  },
  {
   "cell_type": "markdown",
   "id": "b7443c89",
   "metadata": {},
   "source": [
    "## <span style=\"color: purple;\"> 5. Analyse de complexité </span>"
   ]
  },
  {
   "cell_type": "markdown",
   "id": "0e5f9301",
   "metadata": {},
   "source": [
    "### <span style=\"color: purple;\"> 5.1. Récapitulatif des Problèmes de classe </span>"
   ]
  },
  {
   "cell_type": "markdown",
   "id": "0159c11b",
   "metadata": {},
   "source": [
    "Un problème de classe ${P}$ est un problème qui peut être résolu facilement en temps polynomial.\n",
    "\n",
    "Un problème peut appartenir à la classe $NP$ si l’on peut trouver une solution qui peut être vérifiée efficacement en temps polynomial une fois qu’elle est donnée.\n",
    "\n",
    "Un problème peut être ${NP}$-difficile seulement s’il est prouvé qu’il est au moins aussi difficile que n’importe quel problème de ${NP}$.  \n",
    "On peut utiliser une méthode appelée réduction, où l’on cherche à réduire le problème étudié à un problème déjà connu comme ${NP}$-difficile.  \n",
    "Ainsi, si le problème B peut être écrit sous la forme d’un problème A déjà reconnu comme ${NP}$-difficile, on peut en conclure que B est lui aussi ${NP}$-difficile.\n",
    "\n",
    "Un problème peut être ${NP}$-complet seulement s’il est à la fois ${NP}$-difficile et qu’il peut être écrit sous forme d’un problème de décision, c’est-à-dire un problème dont la solution peut être exprimée comme vraie ou fausse.\n",
    "\n",
    "<div align=\"center\">\n",
    "    <figure style=\"display:flex;flex-direction:column;align-items:center;\">\n",
    "        <img src=\"images/image.png\" alt=\"Diagramme P, NP, NP-Complete, NP-Hard\" style=\"max-width:500px;width:80%;height:auto;border:1px solid #e0e0e0;border-radius:8px;box-shadow:0 6px 18px rgba(0,0,0,0.08);\" />\n",
    "        <figcaption style=\"margin-top:8px;color:#555;font-size:0.95em;text-align:center;\">\n",
    "            Relation entre les classes de complexité : P, NP, NP‑difficile et NP‑complet\n",
    "        </figcaption>\n",
    "    </figure>\n",
    "</div>"
   ]
  },
  {
   "cell_type": "markdown",
   "id": "5b923fc7",
   "metadata": {},
   "source": [
    "### <span style=\"color: purple;\"> 5.2 Preuve que le VRP est bien NP-difficile </span>"
   ]
  },
  {
   "cell_type": "markdown",
   "id": "eb4b57ae",
   "metadata": {},
   "source": [
    "Pour prouver que le **VRP** est $NP$-difficile, on peut raisonner de manière intuitive :  \n",
    "\n",
    "Si l’on réduit le **VRP** à un seul véhicule $(k = 1)$ tout en conservant le même principe de visite de différents clients, on peut établir un **parallèle avec le problème du voyageur de commerce (TSP)**.  \n",
    "\n",
    "Cela signifie que le **VRP** est une **généralisation du TSP**.  \n",
    "\n",
    "Or, le **TSP** a déjà été démontré comme étant ${NP}$-difficile, ce qui implique que le **VRP** l’est également.\n",
    "\n",
    "\n",
    "Preuve que <a href=\"https://www.geeksforgeeks.org/dsa/proof-that-traveling-salesman-problem-is-np-hard/\">le TSP est NP-difficile</a>"
   ]
  },
  {
   "cell_type": "markdown",
   "id": "4c9acdd9",
   "metadata": {},
   "source": [
    "### <span style=\"color: purple;\"> 5.3 Version de decision et NP-Complete </span>\n",
    "\n",
    "Pour montrer que le **VRP** est NP-complet, il faut d’abord le formuler comme un problème de décision. Cela signifie que nous devons poser la question suivante : \"Existe-t-il une solution au **VRP** qui respecte toutes les contraintes et dont le coût total est inférieur à une certaine valeur $C$ ?\"\n",
    "\n",
    "Une fois que nous avons cette formulation, nous devons prouver que le **VRP** est à la fois dans NP et NP-difficile :\n",
    "\n",
    "1. **VRP est dans NP** : Étant donné une solution candidate (un ensemble de tournées pour les véhicules), il est possible de vérifier en temps polynomial si cette solution respecte toutes les contraintes (capacité des véhicules, fenêtres temporelles, etc.) et si son coût total est inférieur à $C$. Cela signifie que le **VRP** est dans NP.\n",
    "\n",
    "2. **VRP est NP-difficile** : Comme nous l’avons montré précédemment, le **VRP** peut être réduit à un problème connu comme NP-difficile (le **TSP**). Par conséquent, le **VRP** est également NP-difficile.\n",
    "\n",
    "En combinant ces deux résultats, nous concluons que cette version de **VRP** est NP-complet.\n"
   ]
  },
  {
   "cell_type": "markdown",
   "id": "d4fd65cc",
   "metadata": {},
   "source": [
    "## <span style=\"color: purple;\"> Conclusion / Résumé </span>\n",
    "\n",
    "Dans ce livrable, nous avons présenté une modélisation complète du problème de tournées de véhicules (VRP) en tant que problème d'optimisation combinatoire. Nous avons défini le problème, ses données d'entrée et ses contraintes, notamment les fenêtres temporelles avec attente autorisée. La modélisation sous forme de graphe orienté permet de représenter les lieux à visiter et les routes possibles, avec des variables de décision binaires pour les trajets.\n",
    "\n",
    "Nous avons également analysé la complexité du problème, démontrant qu'il appartient à la classe NP-difficile, et même NP-complet dans sa version de décision. Cette analyse souligne l'importance de développer des algorithmes heuristiques ou métaheuristiques pour résoudre des instances réelles du VRP.\n",
    "\n",
    "Ce travail constitue une base solide pour la suite du projet. Les prochaines étapes incluront l'implémentation d'algorithmes de résolution (tels que des méthodes exactes pour petites instances ou des heuristiques pour les grandes), la génération de données de test, et l'évaluation des performances en termes de coût, temps et impact environnemental. Nous explorerons également des variantes plus complexes du VRP, comme l'intégration de contraintes de capacité ou de multi-dépôts."
   ]
  },
  {
   "cell_type": "markdown",
   "id": "f067ad30",
   "metadata": {},
   "source": [
    "## <span style=\"color: purple;\"> Références </span>\n",
    "\n",
    "### Sources académiques et scientifiques\n",
    "\n",
    "1. Dantzig, G., & Ramser, J. (1959). The truck dispatching problem. *Management Science*, 6(1), 80-91.  \n",
    "   (Article fondateur du problème de tournées de véhicules)\n",
    "\n",
    "2. Clarke, G., & Wright, J. W. (1964). Scheduling of vehicles from a central depot to a number of delivery points. *Operations Research*, 12(4), 568-581.  \n",
    "   (Algorithme heuristique classique pour le VRP)\n",
    "\n",
    "3. Toth, P., & Vigo, D. (Eds.). (2014). *Vehicle routing: problems, methods, and applications*. SIAM.  \n",
    "   (Ouvrage de référence complet sur les problèmes de routage)\n",
    "\n",
    "4. Laporte, G. (1992). The vehicle routing problem: An overview of exact and approximate algorithms. *European Journal of Operational Research*, 59(3), 345-358.  \n",
    "   (Aperçu des algorithmes pour le VRP)\n",
    "\n",
    "5. Solomon, M. M. (1987). Algorithms for the vehicle routing and scheduling problems with time window constraints. *Operations Research*, 35(2), 254-265.  \n",
    "   (Étude sur les contraintes de fenêtres temporelles)\n",
    "\n",
    "6. Garey, M. R., & Johnson, D. S. (1979). *Computers and intractability: A guide to the theory of NP-completeness*. W. H. Freeman.  \n",
    "   (Référence classique sur la théorie de la complexité)\n",
    "\n",
    "### Sites web et ressources en ligne\n",
    "\n",
    "- GeeksforGeeks: [Proof that Traveling Salesman Problem is NP-Hard](https://www.geeksforgeeks.org/proof-that-traveling-salesman-problem-is-np-hard/)\n",
    "- ADEME: Site officiel de l'Agence de l'Environnement et de la Maîtrise de l'Énergie (France)"
   ]
  }
 ],
 "metadata": {
  "language_info": {
   "name": "python"
  }
 },
 "nbformat": 4,
 "nbformat_minor": 5
}
